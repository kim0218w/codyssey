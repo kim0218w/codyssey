{
 "cells": [
  {
   "cell_type": "code",
   "execution_count": 12,
   "id": "362943d8-2645-4744-ad67-dfa39deb3e4f",
   "metadata": {},
   "outputs": [
    {
     "name": "stdout",
     "output_type": "stream",
     "text": [
      "append:item1 stack:['item1']\n",
      "append:item2 stack:['item1', 'item2']\n",
      "append:item3 stack:['item1', 'item2', 'item3']\n",
      "append:item4 stack:['item1', 'item2', 'item3', 'item4']\n",
      "append:item5 stack:['item1', 'item2', 'item3', 'item4', 'item5']\n",
      "append:item6 stack:['item1', 'item2', 'item3', 'item4', 'item5', 'item6']\n",
      "append:item7 stack:['item1', 'item2', 'item3', 'item4', 'item5', 'item6', 'item7']\n",
      "append:item8 stack:['item1', 'item2', 'item3', 'item4', 'item5', 'item6', 'item7', 'item8']\n",
      "append:item9 stack:['item1', 'item2', 'item3', 'item4', 'item5', 'item6', 'item7', 'item8', 'item9']\n",
      "append:item10 stack:['item1', 'item2', 'item3', 'item4', 'item5', 'item6', 'item7', 'item8', 'item9', 'item10']\n",
      "초과\n",
      "last:item10\n",
      "del:item10 stack:['item1', 'item2', 'item3', 'item4', 'item5', 'item6', 'item7', 'item8', 'item9']\n",
      "del:item9 stack:['item1', 'item2', 'item3', 'item4', 'item5', 'item6', 'item7', 'item8']\n",
      "del:item8 stack:['item1', 'item2', 'item3', 'item4', 'item5', 'item6', 'item7']\n",
      "del:item7 stack:['item1', 'item2', 'item3', 'item4', 'item5', 'item6']\n",
      "del:item6 stack:['item1', 'item2', 'item3', 'item4', 'item5']\n",
      "del:item5 stack:['item1', 'item2', 'item3', 'item4']\n",
      "del:item4 stack:['item1', 'item2', 'item3']\n",
      "del:item3 stack:['item1', 'item2']\n",
      "del:item2 stack:['item1']\n",
      "del:item1 stack:[]\n",
      "[]\n",
      "[]\n"
     ]
    }
   ],
   "source": [
    "stack = []\n",
    "\n",
    "def push(item):\n",
    "    if len(stack) >= 10:\n",
    "        print(\"초과\")\n",
    "    else:\n",
    "        stack.append(item)\n",
    "        print(f\"append:{item} stack:{stack}\")\n",
    "\n",
    "def pop():    \n",
    "    if empty():\n",
    "        print(f\"{stack}\")\n",
    "    else:\n",
    "        removed = stack.pop()\n",
    "        print(f\"del:{removed} stack:{stack}\")\n",
    "\n",
    "def peek():    \n",
    "    if empty():\n",
    "        print(f\"{stack}\")\n",
    "    else:\n",
    "        print(f\"last:{stack[-1]}\")\n",
    "\n",
    "def empty():\n",
    "    return len(stack) == 0\n",
    "\n",
    "# 테스트 코드\n",
    "if __name__ == \"__main__\":\n",
    "    for i in range(1, 12):\n",
    "        push(f\"item{i}\")\n",
    "    peek()\n",
    "    for _ in range(12):\n",
    "        pop()\n"
   ]
  },
  {
   "cell_type": "code",
   "execution_count": null,
   "id": "9af10c41-78c1-474f-8516-cc39a825cb68",
   "metadata": {},
   "outputs": [],
   "source": []
  }
 ],
 "metadata": {
  "kernelspec": {
   "display_name": "Python [conda env:ann]",
   "language": "python",
   "name": "conda-env-ann-py"
  },
  "language_info": {
   "codemirror_mode": {
    "name": "ipython",
    "version": 3
   },
   "file_extension": ".py",
   "mimetype": "text/x-python",
   "name": "python",
   "nbconvert_exporter": "python",
   "pygments_lexer": "ipython3",
   "version": "3.10.16"
  }
 },
 "nbformat": 4,
 "nbformat_minor": 5
}
